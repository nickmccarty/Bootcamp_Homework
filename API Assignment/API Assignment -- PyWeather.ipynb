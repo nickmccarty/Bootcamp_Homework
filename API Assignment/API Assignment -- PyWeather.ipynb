{
 "cells": [
  {
   "cell_type": "markdown",
   "metadata": {},
   "source": [
    "# API Assignment | WeatherPy"
   ]
  },
  {
   "cell_type": "code",
   "execution_count": 56,
   "metadata": {
    "scrolled": true
   },
   "outputs": [],
   "source": [
    "# Dependencies and Setup\n",
    "import matplotlib.pyplot as plt\n",
    "import pandas as pd\n",
    "import numpy as np\n",
    "import requests\n",
    "import time\n",
    "from pprint import pprint\n",
    "import json\n",
    "\n",
    "# Import API key\n",
    "from api_keys import api_key\n",
    "\n",
    "# Incorporated citipy to determine city based on latitude and longitude\n",
    "from citipy import citipy\n",
    "\n",
    "# Output File (CSV)\n",
    "output_data_file = \"cities.csv\"\n",
    "\n",
    "# Range of latitudes and longitudes\n",
    "lat_range = (-90, 90)\n",
    "lng_range = (-180, 180)"
   ]
  },
  {
   "cell_type": "markdown",
   "metadata": {},
   "source": [
    "## Generate Cities List"
   ]
  },
  {
   "cell_type": "code",
   "execution_count": 57,
   "metadata": {},
   "outputs": [
    {
     "data": {
      "text/plain": [
       "620"
      ]
     },
     "execution_count": 57,
     "metadata": {},
     "output_type": "execute_result"
    }
   ],
   "source": [
    "# List for holding lat_lngs and cities\n",
    "lat_lngs = []\n",
    "cities = []\n",
    "\n",
    "# Create a set of random lat and lng combinations\n",
    "lats = np.random.uniform(low=-90.000, high=90.000, size=1500)\n",
    "lngs = np.random.uniform(low=-180.000, high=180.000, size=1500)\n",
    "lat_lngs = zip(lats, lngs)\n",
    "\n",
    "# Identify nearest city for each lat, lng combination\n",
    "for lat_lng in lat_lngs:\n",
    "    city = citipy.nearest_city(lat_lng[0], lat_lng[1]).city_name\n",
    "    \n",
    "    # If the city is unique, then add it to a our cities list\n",
    "    if city not in cities:\n",
    "        cities.append(city)\n",
    "\n",
    "# Print the city count to confirm sufficient count\n",
    "len(cities)"
   ]
  },
  {
   "cell_type": "markdown",
   "metadata": {},
   "source": [
    "### Perform API Calls\n",
    "* Perform a weather check on each city using a series of successive API calls.\n",
    "* Include a print log of each city as it'sbeing processed (with the city number and city name).\n"
   ]
  },
  {
   "cell_type": "code",
   "execution_count": 58,
   "metadata": {},
   "outputs": [
    {
     "name": "stdout",
     "output_type": "stream",
     "text": [
      "Beginnning Data Retrieval\n",
      "-----------------------------\n",
      "Processing Record 0 of Set 1 | mitsamiouli\n",
      "Processing Record 1 of Set 1 | barentsburg\n",
      "Processing Record 2 of Set 1 | kapaa\n",
      "Processing Record 3 of Set 1 | barawe\n",
      "Processing Record 4 of Set 1 | akonolinga\n",
      "Processing Record 5 of Set 1 | thompson\n",
      "Processing Record 6 of Set 1 | taltal\n",
      "Processing Record 7 of Set 1 | castro\n",
      "Processing Record 8 of Set 1 | vestmannaeyjar\n",
      "Processing Record 9 of Set 1 | acapulco\n",
      "Processing Record 10 of Set 1 | margate\n",
      "Processing Record 11 of Set 1 | tucuman\n",
      "Processing Record 12 of Set 1 | hobart\n",
      "Processing Record 13 of Set 1 | pustoshka\n",
      "Processing Record 14 of Set 1 | mayumba\n",
      "Processing Record 15 of Set 1 | new norfolk\n",
      "Processing Record 16 of Set 1 | abong mbang\n",
      "Processing Record 17 of Set 1 | meulaboh\n",
      "Processing Record 18 of Set 1 | kalmunai\n",
      "Processing Record 19 of Set 1 | araouane\n",
      "Processing Record 20 of Set 1 | saint-philippe\n",
      "Processing Record 21 of Set 1 | jamestown\n",
      "Processing Record 22 of Set 1 | ushuaia\n",
      "Processing Record 23 of Set 1 | roura\n",
      "Processing Record 24 of Set 1 | albany\n",
      "Processing Record 25 of Set 1 | taolanaro\n",
      "Processing Record 26 of Set 1 | tumannyy\n",
      "Processing Record 27 of Set 1 | busselton\n",
      "Processing Record 28 of Set 1 | saint anthony\n",
      "Processing Record 29 of Set 1 | pisco\n",
      "Processing Record 30 of Set 1 | mao\n",
      "Processing Record 31 of Set 1 | puerto escondido\n",
      "Processing Record 32 of Set 1 | corinto\n",
      "Processing Record 33 of Set 1 | chirilagua\n",
      "Processing Record 34 of Set 1 | ust-bolsheretsk\n",
      "Processing Record 35 of Set 1 | mataura\n",
      "Processing Record 36 of Set 1 | vaini\n",
      "Processing Record 37 of Set 1 | fare\n",
      "Processing Record 38 of Set 1 | mahajanga\n",
      "Processing Record 39 of Set 1 | upernavik\n",
      "Processing Record 40 of Set 1 | marsh harbour\n",
      "Processing Record 41 of Set 1 | illoqqortoormiut\n",
      "Processing Record 42 of Set 1 | grand river south east\n",
      "Processing Record 43 of Set 1 | ancud\n",
      "Processing Record 44 of Set 1 | puerto ayora\n",
      "Processing Record 45 of Set 1 | bronnoysund\n",
      "Processing Record 46 of Set 1 | belushya guba\n",
      "Processing Record 47 of Set 1 | hithadhoo\n",
      "Processing Record 48 of Set 1 | preeceville\n",
      "Processing Record 49 of Set 1 | camacupa\n",
      "Processing Record 50 of Set 1 | santa maria visitacion\n",
      "Processing Record 51 of Set 1 | luganville\n",
      "Processing Record 52 of Set 1 | rikitea\n",
      "Processing Record 53 of Set 1 | santa helena\n",
      "Processing Record 54 of Set 1 | gondanglegi\n",
      "Processing Record 55 of Set 1 | beloha\n",
      "Processing Record 56 of Set 1 | souillac\n",
      "Processing Record 57 of Set 1 | calabozo\n",
      "Processing Record 58 of Set 1 | patiya\n",
      "Processing Record 59 of Set 1 | dinagat\n",
      "Processing Record 60 of Set 1 | mogocha\n",
      "Processing Record 61 of Set 1 | broome\n",
      "Processing Record 62 of Set 1 | cape town\n",
      "Processing Record 63 of Set 1 | kavieng\n",
      "Processing Record 64 of Set 1 | nome\n",
      "Processing Record 65 of Set 1 | chokurdakh\n",
      "Processing Record 66 of Set 1 | hovd\n",
      "Processing Record 67 of Set 1 | port alfred\n",
      "Processing Record 68 of Set 1 | kiama\n",
      "Processing Record 69 of Set 1 | samarai\n",
      "Processing Record 70 of Set 1 | hilo\n",
      "Processing Record 71 of Set 1 | nahavand\n",
      "Processing Record 72 of Set 1 | khatanga\n",
      "Processing Record 73 of Set 1 | coquimbo\n",
      "Processing Record 74 of Set 1 | ponta do sol\n",
      "Processing Record 75 of Set 1 | fortuna\n",
      "Processing Record 76 of Set 1 | kosh-agach\n",
      "Processing Record 77 of Set 1 | yellowknife\n",
      "Processing Record 78 of Set 1 | mbandaka\n",
      "Processing Record 79 of Set 1 | arraial do cabo\n",
      "Processing Record 80 of Set 1 | tagbina\n",
      "Processing Record 81 of Set 1 | tautira\n",
      "Processing Record 82 of Set 1 | longyearbyen\n",
      "Processing Record 83 of Set 1 | tuktoyaktuk\n",
      "Processing Record 84 of Set 1 | hermanus\n",
      "Processing Record 85 of Set 1 | nouakchott\n",
      "Processing Record 86 of Set 1 | cidreira\n",
      "Processing Record 87 of Set 1 | bengkulu\n",
      "Processing Record 88 of Set 1 | chuy\n",
      "Processing Record 89 of Set 1 | atuona\n",
      "Processing Record 90 of Set 1 | alotau\n",
      "Processing Record 91 of Set 1 | poum\n",
      "Processing Record 92 of Set 1 | meschede\n",
      "Processing Record 93 of Set 1 | qaanaaq\n",
      "Processing Record 94 of Set 1 | one hundred mile house\n",
      "Processing Record 95 of Set 1 | gravdal\n",
      "Processing Record 96 of Set 1 | lagoa\n",
      "Processing Record 97 of Set 1 | juneau\n",
      "Processing Record 98 of Set 1 | vagur\n",
      "Processing Record 99 of Set 1 | sioux lookout\n",
      "Processing Record 100 of Set 1 | rayong\n",
      "Processing Record 101 of Set 1 | qorveh\n",
      "Processing Record 102 of Set 1 | provideniya\n",
      "Processing Record 103 of Set 1 | victoria\n",
      "Processing Record 104 of Set 1 | manturovo\n",
      "Processing Record 105 of Set 1 | iwanai\n",
      "Processing Record 106 of Set 1 | kuching\n",
      "Processing Record 107 of Set 1 | katobu\n",
      "Processing Record 108 of Set 1 | lavrentiya\n",
      "Processing Record 109 of Set 1 | bethel\n",
      "Processing Record 110 of Set 1 | biu\n",
      "Processing Record 111 of Set 1 | tiksi\n",
      "Processing Record 112 of Set 1 | shelburne\n",
      "Processing Record 113 of Set 1 | takoradi\n",
      "Processing Record 114 of Set 1 | doba\n",
      "Processing Record 115 of Set 1 | rawson\n",
      "Processing Record 116 of Set 1 | gorom-gorom\n",
      "Processing Record 117 of Set 1 | nemuro\n",
      "Processing Record 118 of Set 1 | saskylakh\n",
      "Processing Record 119 of Set 1 | munich\n",
      "Processing Record 120 of Set 1 | sao joao da barra\n",
      "Processing Record 121 of Set 1 | alihe\n",
      "Processing Record 122 of Set 1 | mount gambier\n",
      "Processing Record 123 of Set 1 | izberbash\n",
      "Processing Record 124 of Set 1 | ternate\n",
      "Processing Record 125 of Set 1 | mastic beach\n",
      "Processing Record 126 of Set 1 | clyde river\n",
      "Processing Record 127 of Set 1 | manicore\n",
      "Processing Record 128 of Set 1 | mahebourg\n",
      "Processing Record 129 of Set 1 | taranagar\n",
      "Processing Record 130 of Set 1 | san pedro de ycuamandiyu\n",
      "Processing Record 131 of Set 1 | molchanovo\n",
      "Processing Record 132 of Set 1 | pevek\n",
      "Processing Record 133 of Set 1 | oistins\n",
      "Processing Record 134 of Set 1 | sorland\n",
      "Processing Record 135 of Set 1 | bilma\n",
      "Processing Record 136 of Set 1 | russell\n",
      "Processing Record 137 of Set 1 | green river\n",
      "Processing Record 138 of Set 1 | mazara del vallo\n",
      "Processing Record 139 of Set 1 | kahului\n",
      "Processing Record 140 of Set 1 | myitkyina\n",
      "Processing Record 141 of Set 1 | san vito\n",
      "Processing Record 142 of Set 1 | tasiilaq\n",
      "Processing Record 143 of Set 1 | touros\n",
      "Processing Record 144 of Set 1 | torbay\n",
      "Processing Record 145 of Set 1 | padang\n",
      "Processing Record 146 of Set 1 | northam\n",
      "Processing Record 147 of Set 1 | carnarvon\n",
      "Processing Record 148 of Set 1 | callejones\n",
      "Processing Record 149 of Set 1 | finnsnes\n",
      "Processing Record 150 of Set 1 | bluff\n",
      "Processing Record 151 of Set 1 | general roca\n",
      "Processing Record 152 of Set 1 | sao jose da coroa grande\n",
      "Processing Record 153 of Set 1 | sinazongwe\n",
      "Processing Record 154 of Set 1 | punta arenas\n",
      "Processing Record 155 of Set 1 | avarua\n",
      "Processing Record 156 of Set 1 | madera\n",
      "Processing Record 157 of Set 1 | freeport\n",
      "Processing Record 158 of Set 1 | itarema\n",
      "Processing Record 159 of Set 1 | tigre\n",
      "Processing Record 160 of Set 1 | ostrovnoy\n",
      "Processing Record 161 of Set 1 | attawapiskat\n",
      "Processing Record 162 of Set 1 | iqaluit\n",
      "Processing Record 163 of Set 1 | cherskiy\n",
      "Processing Record 164 of Set 1 | butaritari\n",
      "Processing Record 165 of Set 1 | gwadar\n",
      "Processing Record 166 of Set 1 | mwene-ditu\n",
      "Processing Record 167 of Set 1 | mehamn\n",
      "Processing Record 168 of Set 1 | teya\n",
      "Processing Record 169 of Set 1 | cosala\n",
      "Processing Record 170 of Set 1 | bagotville\n",
      "Processing Record 171 of Set 1 | afmadu\n",
      "Processing Record 172 of Set 1 | onverwacht\n",
      "Processing Record 173 of Set 1 | namsos\n",
      "Processing Record 174 of Set 1 | mezica\n",
      "Processing Record 175 of Set 1 | dhidhdhoo\n",
      "Processing Record 176 of Set 1 | udachnyy\n",
      "Processing Record 177 of Set 1 | bredasdorp\n",
      "Processing Record 178 of Set 1 | naze\n",
      "Processing Record 179 of Set 1 | camopi\n",
      "Processing Record 180 of Set 1 | monterotondo\n",
      "Processing Record 181 of Set 1 | cabo san lucas\n",
      "Processing Record 182 of Set 1 | macaboboni\n",
      "Processing Record 183 of Set 1 | kazalinsk\n",
      "Processing Record 184 of Set 1 | pacific grove\n",
      "Processing Record 185 of Set 1 | spokane\n",
      "Processing Record 186 of Set 1 | lebu\n",
      "Processing Record 187 of Set 1 | coahuayana\n",
      "Processing Record 188 of Set 1 | shingu\n",
      "Processing Record 189 of Set 1 | xingcheng\n",
      "Processing Record 190 of Set 1 | esperance\n",
      "Processing Record 191 of Set 1 | ambulu\n",
      "Processing Record 192 of Set 1 | buarcos\n",
      "Processing Record 193 of Set 1 | tsurib\n"
     ]
    },
    {
     "name": "stdout",
     "output_type": "stream",
     "text": [
      "Processing Record 194 of Set 1 | khovu-aksy\n",
      "Processing Record 195 of Set 1 | sitka\n",
      "Processing Record 196 of Set 1 | lakes entrance\n",
      "Processing Record 197 of Set 1 | mar del plata\n",
      "Processing Record 198 of Set 1 | sembe\n",
      "Processing Record 199 of Set 1 | komsomolskiy\n",
      "Processing Record 200 of Set 1 | cortez\n",
      "Processing Record 201 of Set 1 | nizhneyansk\n",
      "Processing Record 202 of Set 1 | aklavik\n",
      "Processing Record 203 of Set 1 | narsaq\n",
      "Processing Record 204 of Set 1 | alyangula\n",
      "Processing Record 205 of Set 1 | torrington\n",
      "Processing Record 206 of Set 1 | seoul\n",
      "Processing Record 207 of Set 1 | atasu\n",
      "Processing Record 208 of Set 1 | fairview\n",
      "Processing Record 209 of Set 1 | arlit\n",
      "Processing Record 210 of Set 1 | faanui\n",
      "Processing Record 211 of Set 1 | sentyabrskiy\n",
      "Processing Record 212 of Set 1 | olafsvik\n",
      "Processing Record 213 of Set 1 | sretensk\n",
      "Processing Record 214 of Set 1 | vao\n",
      "Processing Record 215 of Set 1 | deputatskiy\n",
      "Processing Record 216 of Set 1 | canchungo\n",
      "Processing Record 217 of Set 1 | diffa\n",
      "Processing Record 218 of Set 1 | doha\n",
      "Processing Record 219 of Set 1 | east london\n",
      "Processing Record 220 of Set 1 | umzimvubu\n",
      "Processing Record 221 of Set 1 | atar\n",
      "Processing Record 222 of Set 1 | barrow\n",
      "Processing Record 223 of Set 1 | eregli\n",
      "Processing Record 224 of Set 1 | bakchar\n",
      "Processing Record 225 of Set 1 | koscian\n",
      "Processing Record 226 of Set 1 | kjollefjord\n",
      "Processing Record 227 of Set 1 | bay roberts\n",
      "Processing Record 228 of Set 1 | ishigaki\n",
      "Processing Record 229 of Set 1 | gimbi\n",
      "Processing Record 230 of Set 1 | georgetown\n",
      "Processing Record 231 of Set 1 | paciran\n",
      "Processing Record 232 of Set 1 | hammerfest\n",
      "Processing Record 233 of Set 1 | half moon bay\n",
      "Processing Record 234 of Set 1 | luderitz\n",
      "Processing Record 235 of Set 1 | kawalu\n",
      "Processing Record 236 of Set 1 | mogadishu\n",
      "Processing Record 237 of Set 1 | mys shmidta\n",
      "Processing Record 238 of Set 1 | saint george\n",
      "Processing Record 239 of Set 1 | roros\n",
      "Processing Record 240 of Set 1 | asau\n",
      "Processing Record 241 of Set 1 | la ronge\n",
      "Processing Record 242 of Set 1 | airai\n",
      "Processing Record 243 of Set 1 | khash\n",
      "Processing Record 244 of Set 1 | ipixuna\n",
      "Processing Record 245 of Set 1 | los llanos de aridane\n",
      "Processing Record 246 of Set 1 | nhamunda\n",
      "Processing Record 247 of Set 1 | beruwala\n",
      "Processing Record 248 of Set 1 | port macquarie\n",
      "Processing Record 249 of Set 1 | flinders\n",
      "Processing Record 250 of Set 1 | shenjiamen\n",
      "Processing Record 251 of Set 1 | nikolskoye\n",
      "Processing Record 252 of Set 1 | tanabe\n",
      "Processing Record 253 of Set 1 | toliary\n",
      "Processing Record 254 of Set 1 | bambous virieux\n",
      "Processing Record 255 of Set 1 | san quintin\n",
      "Processing Record 256 of Set 1 | mabasa\n",
      "Processing Record 257 of Set 1 | berlevag\n",
      "Processing Record 258 of Set 1 | vila\n",
      "Processing Record 259 of Set 1 | chilca\n",
      "Processing Record 260 of Set 1 | klaksvik\n",
      "Processing Record 261 of Set 1 | huangcun\n",
      "Processing Record 262 of Set 1 | mount isa\n",
      "Processing Record 263 of Set 1 | katsuura\n",
      "Processing Record 264 of Set 1 | hasaki\n",
      "Processing Record 265 of Set 1 | kaitangata\n",
      "Processing Record 266 of Set 1 | tuatapere\n",
      "Processing Record 267 of Set 1 | wana\n",
      "Processing Record 268 of Set 1 | cumra\n",
      "Processing Record 269 of Set 1 | havoysund\n",
      "Processing Record 270 of Set 1 | awjilah\n",
      "Processing Record 271 of Set 1 | lang son\n",
      "Processing Record 272 of Set 1 | portland\n",
      "Processing Record 273 of Set 1 | biak\n",
      "Processing Record 274 of Set 1 | dargaville\n",
      "Processing Record 275 of Set 1 | vardo\n",
      "Processing Record 276 of Set 1 | ferrol\n",
      "Processing Record 277 of Set 1 | lompoc\n",
      "Processing Record 278 of Set 1 | kouroussa\n",
      "Processing Record 279 of Set 1 | charters towers\n",
      "Processing Record 280 of Set 1 | teeli\n",
      "Processing Record 281 of Set 1 | baruun-urt\n",
      "Processing Record 282 of Set 1 | galgani\n",
      "Processing Record 283 of Set 1 | itoman\n",
      "Processing Record 284 of Set 1 | phan rang\n",
      "Processing Record 285 of Set 1 | saryozek\n",
      "Processing Record 286 of Set 1 | tsihombe\n",
      "Processing Record 287 of Set 1 | kropotkin\n",
      "Processing Record 288 of Set 1 | novobureyskiy\n",
      "Processing Record 289 of Set 1 | kolokani\n",
      "Processing Record 290 of Set 1 | mouila\n",
      "Processing Record 291 of Set 1 | port hardy\n",
      "Processing Record 292 of Set 1 | isla vista\n",
      "Processing Record 293 of Set 1 | opuwo\n",
      "Processing Record 294 of Set 1 | bullhead city\n",
      "Processing Record 295 of Set 1 | birjand\n",
      "Processing Record 296 of Set 1 | izhevsk\n",
      "Processing Record 297 of Set 1 | camana\n",
      "Processing Record 298 of Set 1 | laguna\n",
      "Processing Record 299 of Set 1 | princeton\n",
      "Processing Record 300 of Set 1 | tevaitoa\n",
      "Processing Record 301 of Set 1 | birakan\n",
      "Processing Record 302 of Set 1 | norman wells\n",
      "Processing Record 303 of Set 1 | eenhana\n",
      "Processing Record 304 of Set 1 | ustyuzhna\n",
      "Processing Record 305 of Set 1 | prachuap khiri khan\n",
      "Processing Record 306 of Set 1 | constitucion\n",
      "Processing Record 307 of Set 1 | harper\n",
      "Processing Record 308 of Set 1 | san matias\n",
      "Processing Record 309 of Set 1 | simbahan\n",
      "Processing Record 310 of Set 1 | kaoma\n",
      "Processing Record 311 of Set 1 | bartica\n",
      "Processing Record 312 of Set 1 | muroto\n",
      "Processing Record 313 of Set 1 | puerto del rosario\n",
      "Processing Record 314 of Set 1 | alexandria\n",
      "Processing Record 315 of Set 1 | tyumentsevo\n",
      "Processing Record 316 of Set 1 | balkanabat\n",
      "Processing Record 317 of Set 1 | mustasaari\n",
      "Processing Record 318 of Set 1 | guiratinga\n",
      "Processing Record 319 of Set 1 | fort smith\n",
      "Processing Record 320 of Set 1 | peace river\n",
      "Processing Record 321 of Set 1 | homer\n",
      "Processing Record 322 of Set 1 | port elizabeth\n",
      "Processing Record 323 of Set 1 | sao filipe\n",
      "Processing Record 324 of Set 1 | mawlaik\n",
      "Processing Record 325 of Set 1 | kalabo\n",
      "Processing Record 326 of Set 1 | isla mujeres\n",
      "Processing Record 327 of Set 1 | esso\n",
      "Processing Record 328 of Set 1 | roma\n",
      "Processing Record 329 of Set 1 | jinchang\n",
      "Processing Record 330 of Set 1 | kawana waters\n",
      "Processing Record 331 of Set 1 | artyk\n",
      "Processing Record 332 of Set 1 | rosarito\n",
      "Processing Record 333 of Set 1 | ilulissat\n",
      "Processing Record 334 of Set 1 | kalevala\n",
      "Processing Record 335 of Set 1 | vaitupu\n",
      "Processing Record 336 of Set 1 | dikson\n",
      "Processing Record 337 of Set 1 | solnechnyy\n",
      "Processing Record 338 of Set 1 | luoyang\n",
      "Processing Record 339 of Set 1 | doka\n",
      "Processing Record 340 of Set 1 | wuwei\n",
      "Processing Record 341 of Set 1 | abashiri\n",
      "Processing Record 342 of Set 1 | jensen beach\n",
      "Processing Record 343 of Set 1 | carutapera\n",
      "Processing Record 344 of Set 1 | ust-tsilma\n",
      "Processing Record 345 of Set 1 | vyazma\n",
      "Processing Record 346 of Set 1 | sao paulo de olivenca\n",
      "Processing Record 347 of Set 1 | bosaso\n",
      "Processing Record 348 of Set 1 | robertsport\n",
      "Processing Record 349 of Set 1 | nurota\n",
      "Processing Record 350 of Set 1 | amderma\n",
      "Processing Record 351 of Set 1 | salalah\n",
      "Processing Record 352 of Set 1 | khasan\n",
      "Processing Record 353 of Set 1 | rungata\n",
      "Processing Record 354 of Set 1 | ruatoria\n",
      "Processing Record 355 of Set 1 | ribeira grande\n",
      "Processing Record 356 of Set 1 | rocha\n",
      "Processing Record 357 of Set 1 | qobustan\n",
      "Processing Record 358 of Set 1 | villamontes\n",
      "Processing Record 359 of Set 1 | mandalgovi\n",
      "Processing Record 360 of Set 1 | kadykchan\n",
      "Processing Record 361 of Set 1 | hami\n",
      "Processing Record 362 of Set 1 | san cristobal\n",
      "Processing Record 363 of Set 1 | maarianhamina\n",
      "Processing Record 364 of Set 1 | bage\n",
      "Processing Record 365 of Set 1 | liverpool\n",
      "Processing Record 366 of Set 1 | sobolevo\n",
      "Processing Record 367 of Set 1 | dolores\n",
      "Processing Record 368 of Set 1 | floro\n",
      "Processing Record 369 of Set 1 | virginia beach\n",
      "Processing Record 370 of Set 1 | danville\n",
      "Processing Record 371 of Set 1 | faqirwali\n",
      "Processing Record 372 of Set 1 | barrhead\n",
      "Processing Record 373 of Set 1 | yuli\n",
      "Processing Record 374 of Set 1 | najran\n",
      "Processing Record 375 of Set 1 | bozoum\n",
      "Processing Record 376 of Set 1 | yuancheng\n",
      "Processing Record 377 of Set 1 | grand-santi\n",
      "Processing Record 378 of Set 1 | beni\n",
      "Processing Record 379 of Set 1 | okhotsk\n",
      "Processing Record 380 of Set 1 | casablanca\n",
      "Processing Record 381 of Set 1 | saiki\n",
      "Processing Record 382 of Set 1 | lethem\n",
      "Processing Record 383 of Set 1 | puerto carreno\n",
      "Processing Record 384 of Set 1 | sola\n",
      "Processing Record 385 of Set 1 | vilyuysk\n",
      "Processing Record 386 of Set 1 | mecca\n",
      "Processing Record 387 of Set 1 | dunedin\n"
     ]
    },
    {
     "name": "stdout",
     "output_type": "stream",
     "text": [
      "Processing Record 388 of Set 1 | kraslava\n",
      "Processing Record 389 of Set 1 | burnie\n",
      "Processing Record 390 of Set 1 | zabid\n",
      "Processing Record 391 of Set 1 | marzuq\n",
      "Processing Record 392 of Set 1 | kloulklubed\n",
      "Processing Record 393 of Set 1 | saint-louis\n",
      "Processing Record 394 of Set 1 | pasighat\n",
      "Processing Record 395 of Set 1 | payo\n",
      "Processing Record 396 of Set 1 | alvorada\n",
      "Processing Record 397 of Set 1 | leningradskiy\n",
      "Processing Record 398 of Set 1 | flin flon\n",
      "Processing Record 399 of Set 1 | saldanha\n",
      "Processing Record 400 of Set 1 | sao miguel do araguaia\n",
      "Processing Record 401 of Set 1 | chapais\n",
      "Processing Record 402 of Set 1 | biggar\n",
      "Processing Record 403 of Set 1 | alvaraes\n",
      "Processing Record 404 of Set 1 | mo i rana\n",
      "Processing Record 405 of Set 1 | kenmare\n",
      "Processing Record 406 of Set 1 | hambantota\n",
      "Processing Record 407 of Set 1 | gat\n",
      "Processing Record 408 of Set 1 | palmer\n",
      "Processing Record 409 of Set 1 | husavik\n",
      "Processing Record 410 of Set 1 | zaysan\n",
      "Processing Record 411 of Set 1 | goderich\n",
      "Processing Record 412 of Set 1 | saint-augustin\n",
      "Processing Record 413 of Set 1 | grand gaube\n",
      "Processing Record 414 of Set 1 | medvezhyegorsk\n",
      "Processing Record 415 of Set 1 | ngukurr\n",
      "Processing Record 416 of Set 1 | bubaque\n",
      "Processing Record 417 of Set 1 | ardistan\n",
      "Processing Record 418 of Set 1 | dong xoai\n",
      "Processing Record 419 of Set 1 | manta\n",
      "Processing Record 420 of Set 1 | koslan\n",
      "Processing Record 421 of Set 1 | sidi ali\n",
      "Processing Record 422 of Set 1 | yertsevo\n",
      "Processing Record 423 of Set 1 | changping\n",
      "Processing Record 424 of Set 1 | hofn\n",
      "Processing Record 425 of Set 1 | ponta delgada\n",
      "Processing Record 426 of Set 1 | beringovskiy\n",
      "Processing Record 427 of Set 1 | vostok\n",
      "Processing Record 428 of Set 1 | elban\n",
      "Processing Record 429 of Set 1 | columbus\n",
      "Processing Record 430 of Set 1 | grand forks\n",
      "Processing Record 431 of Set 1 | ust-kut\n",
      "Processing Record 432 of Set 1 | samusu\n",
      "Processing Record 433 of Set 1 | kiunga\n",
      "Processing Record 434 of Set 1 | seymchan\n",
      "Processing Record 435 of Set 1 | hamilton\n",
      "Processing Record 436 of Set 1 | dawei\n",
      "Processing Record 437 of Set 1 | stuttgart\n",
      "Processing Record 438 of Set 1 | kyaikto\n",
      "Processing Record 439 of Set 1 | areni\n",
      "Processing Record 440 of Set 1 | sataua\n",
      "Processing Record 441 of Set 1 | maneadero\n",
      "Processing Record 442 of Set 1 | pangkalanbuun\n",
      "Processing Record 443 of Set 1 | ossora\n",
      "Processing Record 444 of Set 1 | ryotsu\n",
      "Processing Record 445 of Set 1 | west wendover\n",
      "Processing Record 446 of Set 1 | yulara\n",
      "Processing Record 447 of Set 1 | abapo\n",
      "Processing Record 448 of Set 1 | yatou\n",
      "Processing Record 449 of Set 1 | oum hadjer\n",
      "Processing Record 450 of Set 1 | pathein\n",
      "Processing Record 451 of Set 1 | kapit\n",
      "Processing Record 452 of Set 1 | tigil\n",
      "Processing Record 453 of Set 1 | ust-nera\n",
      "Processing Record 454 of Set 1 | mantua\n",
      "Processing Record 455 of Set 1 | erzin\n",
      "Processing Record 456 of Set 1 | sorvag\n",
      "Processing Record 457 of Set 1 | pryozerne\n",
      "Processing Record 458 of Set 1 | adrar\n",
      "Processing Record 459 of Set 1 | kodiak\n",
      "Processing Record 460 of Set 1 | dwarka\n",
      "Processing Record 461 of Set 1 | miyazu\n",
      "Processing Record 462 of Set 1 | namie\n",
      "Processing Record 463 of Set 1 | boissevain\n",
      "Processing Record 464 of Set 1 | comodoro rivadavia\n",
      "Processing Record 465 of Set 1 | brigantine\n",
      "Processing Record 466 of Set 1 | san patricio\n",
      "Processing Record 467 of Set 1 | port lincoln\n",
      "Processing Record 468 of Set 1 | ambon\n",
      "Processing Record 469 of Set 1 | romny\n",
      "Processing Record 470 of Set 1 | cunha\n",
      "Processing Record 471 of Set 1 | roebourne\n",
      "Processing Record 472 of Set 1 | koson\n",
      "Processing Record 473 of Set 1 | bathsheba\n",
      "Processing Record 474 of Set 1 | lata\n",
      "Processing Record 475 of Set 1 | leua\n",
      "Processing Record 476 of Set 1 | ribeira brava\n",
      "Processing Record 477 of Set 1 | kieta\n",
      "Processing Record 478 of Set 1 | tura\n",
      "Processing Record 479 of Set 1 | socorro\n",
      "Processing Record 480 of Set 1 | severo-kurilsk\n",
      "Processing Record 481 of Set 1 | mapastepec\n",
      "Processing Record 482 of Set 1 | port moresby\n",
      "Processing Record 483 of Set 1 | karimnagar\n",
      "Processing Record 484 of Set 1 | nizhnevartovsk\n",
      "Processing Record 485 of Set 1 | isangel\n",
      "Processing Record 486 of Set 1 | krasnoarmeyskoye\n",
      "Processing Record 487 of Set 1 | bilibino\n",
      "Processing Record 488 of Set 1 | talnakh\n",
      "Processing Record 489 of Set 1 | san jeronimo\n",
      "Processing Record 490 of Set 1 | nanortalik\n",
      "Processing Record 491 of Set 1 | lorengau\n",
      "Processing Record 492 of Set 1 | talcher\n",
      "Processing Record 493 of Set 1 | bur gabo\n",
      "Processing Record 494 of Set 1 | xai-xai\n",
      "Processing Record 495 of Set 1 | calvinia\n",
      "Processing Record 496 of Set 1 | wattegama\n",
      "Processing Record 497 of Set 1 | ankang\n",
      "Processing Record 498 of Set 1 | namatanai\n",
      "Processing Record 499 of Set 1 | adre\n",
      "Processing Record 500 of Set 1 | changji\n",
      "Processing Record 501 of Set 1 | cockburn harbour\n",
      "Processing Record 502 of Set 1 | srednekolymsk\n",
      "Processing Record 503 of Set 1 | port hawkesbury\n",
      "Processing Record 504 of Set 1 | manggar\n",
      "Processing Record 505 of Set 1 | helong\n",
      "Processing Record 506 of Set 1 | denpasar\n",
      "Processing Record 507 of Set 1 | vila franca do campo\n",
      "Processing Record 508 of Set 1 | haines junction\n",
      "Processing Record 509 of Set 1 | quelimane\n",
      "Processing Record 510 of Set 1 | singaraja\n",
      "Processing Record 511 of Set 1 | lolua\n",
      "Processing Record 512 of Set 1 | duliagaon\n",
      "Processing Record 513 of Set 1 | houma\n",
      "Processing Record 514 of Set 1 | saleaula\n",
      "Processing Record 515 of Set 1 | senovo\n",
      "Processing Record 516 of Set 1 | north myrtle beach\n",
      "Processing Record 517 of Set 1 | aras\n",
      "Processing Record 518 of Set 1 | faya\n",
      "Processing Record 519 of Set 1 | amapa\n",
      "Processing Record 520 of Set 1 | mendahara\n",
      "Processing Record 521 of Set 1 | whitehorse\n",
      "Processing Record 522 of Set 1 | kinna\n",
      "Processing Record 523 of Set 1 | bambanglipuro\n",
      "Processing Record 524 of Set 1 | sinjai\n",
      "Processing Record 525 of Set 1 | samagaltay\n",
      "Processing Record 526 of Set 1 | nizwa\n",
      "Processing Record 527 of Set 1 | maple creek\n",
      "Processing Record 528 of Set 1 | pangnirtung\n",
      "Processing Record 529 of Set 1 | sorong\n",
      "Processing Record 530 of Set 1 | tenenkou\n",
      "Processing Record 531 of Set 1 | inhambane\n",
      "Processing Record 532 of Set 1 | port-cartier\n",
      "Processing Record 533 of Set 1 | muborak\n",
      "Processing Record 534 of Set 1 | guanica\n",
      "Processing Record 535 of Set 1 | avera\n",
      "Processing Record 536 of Set 1 | buraydah\n",
      "Processing Record 537 of Set 1 | ikryanoye\n",
      "Processing Record 538 of Set 1 | indian head\n",
      "Processing Record 539 of Set 1 | neyvo-rudyanka\n",
      "Processing Record 540 of Set 1 | qui nhon\n",
      "Processing Record 541 of Set 1 | cururupu\n",
      "Processing Record 542 of Set 1 | umm lajj\n",
      "Processing Record 543 of Set 1 | college\n",
      "Processing Record 544 of Set 1 | bath\n",
      "Processing Record 545 of Set 1 | koulikoro\n",
      "Processing Record 546 of Set 1 | tecoanapa\n",
      "Processing Record 547 of Set 1 | ugep\n",
      "Processing Record 548 of Set 1 | santiago\n",
      "Processing Record 549 of Set 1 | marawi\n",
      "Processing Record 550 of Set 1 | sergeyevka\n",
      "Processing Record 551 of Set 1 | naftah\n",
      "Processing Record 552 of Set 1 | bargal\n",
      "Processing Record 553 of Set 1 | halalo\n",
      "Processing Record 554 of Set 1 | ourossogui\n",
      "Processing Record 555 of Set 1 | lithakia\n",
      "Processing Record 556 of Set 1 | louisbourg\n",
      "Processing Record 557 of Set 1 | zhigansk\n",
      "Processing Record 558 of Set 1 | methven\n",
      "Processing Record 559 of Set 1 | phan thiet\n",
      "Processing Record 560 of Set 1 | jasper\n",
      "Processing Record 561 of Set 1 | beira\n",
      "Processing Record 562 of Set 1 | grindavik\n",
      "Processing Record 563 of Set 1 | afrikanda\n",
      "Processing Record 564 of Set 1 | prince rupert\n",
      "Processing Record 565 of Set 1 | labutta\n",
      "Processing Record 566 of Set 1 | stoyba\n",
      "Processing Record 567 of Set 1 | paradwip\n",
      "Processing Record 568 of Set 1 | shelton\n",
      "Processing Record 569 of Set 1 | tchaourou\n",
      "Processing Record 570 of Set 1 | wilmington\n",
      "Processing Record 571 of Set 1 | hanzhong\n",
      "Processing Record 572 of Set 1 | karkaralinsk\n",
      "Processing Record 573 of Set 1 | maragogi\n",
      "Processing Record 574 of Set 1 | jinxiang\n",
      "Processing Record 575 of Set 1 | alekseyevsk\n",
      "Processing Record 576 of Set 1 | mahina\n",
      "Processing Record 577 of Set 1 | palabuhanratu\n",
      "Processing Record 578 of Set 1 | qeshm\n",
      "Processing Record 579 of Set 1 | kamenskoye\n",
      "Processing Record 580 of Set 1 | pemangkat\n",
      "Processing Record 581 of Set 1 | vieux-habitants\n",
      "Processing Record 582 of Set 1 | paka\n"
     ]
    },
    {
     "name": "stdout",
     "output_type": "stream",
     "text": [
      "Processing Record 583 of Set 1 | eyl\n",
      "Processing Record 584 of Set 1 | fairbanks\n",
      "Processing Record 585 of Set 1 | pamekasan\n",
      "Processing Record 586 of Set 1 | rabo de peixe\n",
      "Processing Record 587 of Set 1 | tank\n",
      "Processing Record 588 of Set 1 | la crosse\n",
      "Processing Record 589 of Set 1 | upata\n",
      "Processing Record 590 of Set 1 | yeppoon\n",
      "Processing Record 591 of Set 1 | payao\n",
      "Processing Record 592 of Set 1 | wangkui\n",
      "Processing Record 593 of Set 1 | noumea\n",
      "Processing Record 594 of Set 1 | port-gentil\n",
      "Processing Record 595 of Set 1 | robe\n",
      "Processing Record 596 of Set 1 | tromso\n",
      "Processing Record 597 of Set 1 | mount pleasant\n",
      "Processing Record 598 of Set 1 | tashla\n",
      "Processing Record 599 of Set 1 | akdepe\n",
      "Processing Record 600 of Set 1 | oktyabrskiy\n",
      "Processing Record 601 of Set 1 | ovre ardal\n",
      "Processing Record 602 of Set 1 | kabompo\n",
      "Processing Record 603 of Set 1 | nelson bay\n",
      "Processing Record 604 of Set 1 | itanagar\n",
      "Processing Record 605 of Set 1 | celestun\n",
      "Processing Record 606 of Set 1 | ahipara\n",
      "Processing Record 607 of Set 1 | potosi\n",
      "Processing Record 608 of Set 1 | malakal\n",
      "Processing Record 609 of Set 1 | chifeng\n",
      "Processing Record 610 of Set 1 | iralaya\n",
      "Processing Record 611 of Set 1 | awallan\n",
      "Processing Record 612 of Set 1 | ust-kamchatsk\n",
      "Processing Record 613 of Set 1 | hobyo\n",
      "Processing Record 614 of Set 1 | bandarbeyla\n",
      "Processing Record 615 of Set 1 | karamay\n",
      "Processing Record 616 of Set 1 | manokwari\n",
      "Processing Record 617 of Set 1 | pecos\n",
      "Processing Record 618 of Set 1 | zheleznogorsk-ilimskiy\n",
      "Processing Record 619 of Set 1 | hudson bay\n",
      "-----------------------------\n",
      "Data Retrieval Complete\n",
      "-----------------------------\n"
     ]
    }
   ],
   "source": [
    "url = \"http://api.openweathermap.org/data/2.5/weather?\"\n",
    "units = \"imperial\"\n",
    "dump = []\n",
    "#json_data = json.dumps(dump)\n",
    "x = 0\n",
    "batch = 1\n",
    "\n",
    "print(\"Beginnning Data Retrieval\")\n",
    "print(\"-----------------------------\")\n",
    "\n",
    "while x <= 49:\n",
    "    \n",
    "    for i in cities:\n",
    "\n",
    "            try:\n",
    "\n",
    "                city = i\n",
    "                query_url = url + \"APPid=\" + api_key + \"&q=\" + city + \"&units=\" + units\n",
    "                weather_response = requests.get(query_url)\n",
    "                print(\"Processing Record \" + str(x) + \" of Set \" + str(batch) + \" | \" + city)\n",
    "                #json_data.append()\n",
    "                dump.append(weather_response.json())\n",
    "                x = x + 1\n",
    "\n",
    "            except:\n",
    "                print(\"City not found. Skipping...\")\n",
    "                pass\n",
    "        \n",
    "else:\n",
    "    batch = batch + 1\n",
    "\n",
    "print(\"-----------------------------\")\n",
    "print(\"Data Retrieval Complete\")     \n",
    "print(\"-----------------------------\")"
   ]
  },
  {
   "cell_type": "markdown",
   "metadata": {},
   "source": [
    "### Convert Raw Data to DataFrame\n",
    "* Display the DataFrame"
   ]
  },
  {
   "cell_type": "code",
   "execution_count": 49,
   "metadata": {},
   "outputs": [],
   "source": [
    "city = []\n",
    "temp = []\n",
    "clouds = []\n",
    "country = []\n",
    "date = []\n",
    "humidity = []\n",
    "lat = []\n",
    "long = [] \n",
    "max_temp = []\n",
    "wind_speed = []\n",
    "\n",
    "for i in range(len(dump)):\n",
    "    try:\n",
    "        city.append(dump[i]['name'])\n",
    "    except:\n",
    "        city.append(\"NaN\")\n",
    "    try:\n",
    "        temp.append(dump[i]['main']['temp'])\n",
    "    except:\n",
    "        temp.append(\"NaN\")\n",
    "    try:\n",
    "        clouds.append(dump[i]['clouds']['all'])\n",
    "    except:\n",
    "        clouds.append(\"NaN\")\n",
    "    try:\n",
    "        country.append(dump[i]['sys']['country'])\n",
    "    except:\n",
    "        country.append(\"NaN\")\n",
    "    try:\n",
    "        date.append(dump[i]['dt'])\n",
    "    except:\n",
    "        date.append(\"NaN\")\n",
    "    try:\n",
    "        humidity.append(dump[i]['main']['humidity'])\n",
    "    except:\n",
    "        humidity.append(\"NaN\")\n",
    "    try:\n",
    "        lat.append(dump[i]['coord']['lat'])\n",
    "    except:\n",
    "        lat.append(\"NaN\")\n",
    "    try:\n",
    "        long.append(dump[i]['coord']['lon'])\n",
    "    except:\n",
    "        long.append(\"NaN\")\n",
    "    try:\n",
    "        max_temp.append(dump[i]['main']['temp_max'])\n",
    "    except:\n",
    "        max_temp.append(\"NaN\")\n",
    "    try:\n",
    "        wind_speed.append(dump[i]['wind']['speed'])\n",
    "    except:\n",
    "        wind_speed.append(\"NaN\")\n",
    "\n",
    "data_dict = {\"City\" : city,\n",
    "             \"Cloudiness\" : temp,\n",
    "             \"Country\" : country,\n",
    "             \"Date\" : date,\n",
    "             \"Humidity\" : humidity,\n",
    "             \"Lat\" : lat,\n",
    "             \"Lng\" : long,\n",
    "             \"Max Temp\" : max_temp,\n",
    "             \"Wind Speed\" : wind_speed,}\n",
    "\n",
    "df = pd.DataFrame(data_dict)"
   ]
  },
  {
   "cell_type": "code",
   "execution_count": 62,
   "metadata": {},
   "outputs": [
    {
     "data": {
      "text/plain": [
       "City          571\n",
       "Cloudiness    571\n",
       "Country       571\n",
       "Date          571\n",
       "Humidity      571\n",
       "Lat           571\n",
       "Lng           571\n",
       "Max Temp      571\n",
       "Wind Speed    571\n",
       "dtype: int64"
      ]
     },
     "execution_count": 62,
     "metadata": {},
     "output_type": "execute_result"
    }
   ],
   "source": [
    "df.count()"
   ]
  },
  {
   "cell_type": "code",
   "execution_count": 67,
   "metadata": {},
   "outputs": [
    {
     "data": {
      "text/plain": [
       "City          508\n",
       "Cloudiness    508\n",
       "Country       508\n",
       "Date          508\n",
       "Humidity      508\n",
       "Lat           508\n",
       "Lng           508\n",
       "Max Temp      508\n",
       "Wind Speed    508\n",
       "dtype: int64"
      ]
     },
     "execution_count": 67,
     "metadata": {},
     "output_type": "execute_result"
    }
   ],
   "source": [
    "df = df[~df.isin(['NaN']).any(axis=1)]\n",
    "df.count()"
   ]
  },
  {
   "cell_type": "code",
   "execution_count": 68,
   "metadata": {},
   "outputs": [
    {
     "data": {
      "text/html": [
       "<div>\n",
       "<style scoped>\n",
       "    .dataframe tbody tr th:only-of-type {\n",
       "        vertical-align: middle;\n",
       "    }\n",
       "\n",
       "    .dataframe tbody tr th {\n",
       "        vertical-align: top;\n",
       "    }\n",
       "\n",
       "    .dataframe thead th {\n",
       "        text-align: right;\n",
       "    }\n",
       "</style>\n",
       "<table border=\"1\" class=\"dataframe\">\n",
       "  <thead>\n",
       "    <tr style=\"text-align: right;\">\n",
       "      <th></th>\n",
       "      <th>City</th>\n",
       "      <th>Cloudiness</th>\n",
       "      <th>Country</th>\n",
       "      <th>Date</th>\n",
       "      <th>Humidity</th>\n",
       "      <th>Lat</th>\n",
       "      <th>Lng</th>\n",
       "      <th>Max Temp</th>\n",
       "      <th>Wind Speed</th>\n",
       "    </tr>\n",
       "  </thead>\n",
       "  <tbody>\n",
       "    <tr>\n",
       "      <th>1</th>\n",
       "      <td>Gidrotorf</td>\n",
       "      <td>34.16</td>\n",
       "      <td>RU</td>\n",
       "      <td>1553641272</td>\n",
       "      <td>93</td>\n",
       "      <td>56.47</td>\n",
       "      <td>43.54</td>\n",
       "      <td>36</td>\n",
       "      <td>6.71</td>\n",
       "    </tr>\n",
       "    <tr>\n",
       "      <th>2</th>\n",
       "      <td>Rikitea</td>\n",
       "      <td>80.01</td>\n",
       "      <td>PF</td>\n",
       "      <td>1553641461</td>\n",
       "      <td>97</td>\n",
       "      <td>-23.12</td>\n",
       "      <td>-134.97</td>\n",
       "      <td>80.01</td>\n",
       "      <td>16.06</td>\n",
       "    </tr>\n",
       "    <tr>\n",
       "      <th>3</th>\n",
       "      <td>Carnarvon</td>\n",
       "      <td>55.71</td>\n",
       "      <td>ZA</td>\n",
       "      <td>1553641473</td>\n",
       "      <td>47</td>\n",
       "      <td>-30.97</td>\n",
       "      <td>22.13</td>\n",
       "      <td>55.71</td>\n",
       "      <td>8.46</td>\n",
       "    </tr>\n",
       "    <tr>\n",
       "      <th>4</th>\n",
       "      <td>Celestun</td>\n",
       "      <td>77.53</td>\n",
       "      <td>MX</td>\n",
       "      <td>1553641538</td>\n",
       "      <td>97</td>\n",
       "      <td>20.87</td>\n",
       "      <td>-90.4</td>\n",
       "      <td>77.53</td>\n",
       "      <td>22.32</td>\n",
       "    </tr>\n",
       "    <tr>\n",
       "      <th>5</th>\n",
       "      <td>Upernavik</td>\n",
       "      <td>4.14</td>\n",
       "      <td>GL</td>\n",
       "      <td>1553641414</td>\n",
       "      <td>100</td>\n",
       "      <td>72.79</td>\n",
       "      <td>-56.15</td>\n",
       "      <td>4.14</td>\n",
       "      <td>4.21</td>\n",
       "    </tr>\n",
       "  </tbody>\n",
       "</table>\n",
       "</div>"
      ],
      "text/plain": [
       "        City Cloudiness Country        Date Humidity    Lat     Lng Max Temp  \\\n",
       "1  Gidrotorf      34.16      RU  1553641272       93  56.47   43.54       36   \n",
       "2    Rikitea      80.01      PF  1553641461       97 -23.12 -134.97    80.01   \n",
       "3  Carnarvon      55.71      ZA  1553641473       47 -30.97   22.13    55.71   \n",
       "4   Celestun      77.53      MX  1553641538       97  20.87   -90.4    77.53   \n",
       "5  Upernavik       4.14      GL  1553641414      100  72.79  -56.15     4.14   \n",
       "\n",
       "  Wind Speed  \n",
       "1       6.71  \n",
       "2      16.06  \n",
       "3       8.46  \n",
       "4      22.32  \n",
       "5       4.21  "
      ]
     },
     "execution_count": 68,
     "metadata": {},
     "output_type": "execute_result"
    }
   ],
   "source": [
    "df.head(5)"
   ]
  },
  {
   "cell_type": "markdown",
   "metadata": {},
   "source": [
    "### Plotting the Data\n",
    "* Use proper labeling of the plots using plot titles (including date of analysis) and axes labels.\n",
    "* Save the plotted figures as .pngs."
   ]
  },
  {
   "cell_type": "markdown",
   "metadata": {},
   "source": [
    "#### Latitude vs. Temperature Plot"
   ]
  },
  {
   "cell_type": "code",
   "execution_count": 82,
   "metadata": {},
   "outputs": [
    {
     "data": {
      "text/plain": [
       "<matplotlib.collections.PathCollection at 0x18b363bdda0>"
      ]
     },
     "execution_count": 82,
     "metadata": {},
     "output_type": "execute_result"
    },
    {
     "data": {
      "image/png": "[encoded data removed]",
      "text/plain": [
       "<Figure size 432x288 with 1 Axes>"
      ]
     },
     "metadata": {},
     "output_type": "display_data"
    }
   ],
   "source": [
    "plt.scatter(df.Lat, df['Max Temp'])"
   ]
  },
  {
   "cell_type": "markdown",
   "metadata": {},
   "source": [
    "#### Latitude vs. Humidity Plot"
   ]
  },
  {
   "cell_type": "code",
   "execution_count": 83,
   "metadata": {},
   "outputs": [
    {
     "data": {
      "text/plain": [
       "<matplotlib.collections.PathCollection at 0x18b3644be48>"
      ]
     },
     "execution_count": 83,
     "metadata": {},
     "output_type": "execute_result"
    },
    {
     "data": {
      "image/png": "[encoded data removed]",
      "text/plain": [
       "<Figure size 432x288 with 1 Axes>"
      ]
     },
     "metadata": {},
     "output_type": "display_data"
    }
   ],
   "source": [
    "plt.scatter(df.Lat, df['Humidity'])"
   ]
  },
  {
   "cell_type": "markdown",
   "metadata": {},
   "source": [
    "#### Latitude vs. Cloudiness Plot"
   ]
  },
  {
   "cell_type": "code",
   "execution_count": 84,
   "metadata": {},
   "outputs": [
    {
     "data": {
      "text/plain": [
       "<matplotlib.collections.PathCollection at 0x18b364a9b70>"
      ]
     },
     "execution_count": 84,
     "metadata": {},
     "output_type": "execute_result"
    },
    {
     "data": {
      "image/png": "[encoded data removed]",
      "text/plain": [
       "<Figure size 432x288 with 1 Axes>"
      ]
     },
     "metadata": {},
     "output_type": "display_data"
    }
   ],
   "source": [
    "plt.scatter(df.Lat, df['Cloudiness'])"
   ]
  },
  {
   "cell_type": "markdown",
   "metadata": {},
   "source": [
    "#### Latitude vs. Wind Speed Plot"
   ]
  },
  {
   "cell_type": "code",
   "execution_count": 85,
   "metadata": {},
   "outputs": [
    {
     "data": {
      "text/plain": [
       "<matplotlib.collections.PathCollection at 0x18b3673e9e8>"
      ]
     },
     "execution_count": 85,
     "metadata": {},
     "output_type": "execute_result"
    },
    {
     "data": {
      "image/png": "[encoded data removed]",
      "text/plain": [
       "<Figure size 432x288 with 1 Axes>"
      ]
     },
     "metadata": {},
     "output_type": "display_data"
    }
   ],
   "source": [
    "plt.scatter(df.Lat, df['Wind Speed'])"
   ]
  },
  {
   "cell_type": "markdown",
   "metadata": {},
   "source": [
    "# My Exploratory Analysis"
   ]
  },
  {
   "cell_type": "code",
   "execution_count": 89,
   "metadata": {},
   "outputs": [],
   "source": [
    "# Let's first establish distance from equator and PM\n",
    "\n",
    "df['Degrees from Equator'] = abs(df.Lat - 0)\n",
    "df['Degrees from Prime Meridian'] = abs(df.Lng - 0)"
   ]
  },
  {
   "cell_type": "code",
   "execution_count": 121,
   "metadata": {},
   "outputs": [],
   "source": [
    "# import selected tool to calculate correlations\n",
    "\n",
    "from scipy.stats.stats import pearsonr"
   ]
  },
  {
   "cell_type": "code",
   "execution_count": 249,
   "metadata": {},
   "outputs": [
    {
     "data": {
      "text/plain": [
       "(-0.8482561, 8.565464084504635e-142)"
      ]
     },
     "execution_count": 249,
     "metadata": {},
     "output_type": "execute_result"
    }
   ],
   "source": [
    "pearsonr(df['Degrees from Equator'], df.Cloudiness)\n",
    "# There appears to be a statistically significant\n",
    "# correlation between Cloudiness and Degrees from Equator"
   ]
  },
  {
   "cell_type": "code",
   "execution_count": 250,
   "metadata": {},
   "outputs": [
    {
     "data": {
      "text/plain": [
       "(0.0027680923, 0.9503748466016884)"
      ]
     },
     "execution_count": 250,
     "metadata": {},
     "output_type": "execute_result"
    }
   ],
   "source": [
    "pearsonr(df['Degrees from Prime Meridian'], df.Cloudiness)"
   ]
  },
  {
   "cell_type": "code",
   "execution_count": 251,
   "metadata": {},
   "outputs": [
    {
     "data": {
      "text/plain": [
       "(-0.83757806, 5.936864423326298e-135)"
      ]
     },
     "execution_count": 251,
     "metadata": {},
     "output_type": "execute_result"
    }
   ],
   "source": [
    "pearsonr(df['Degrees from Equator'], df['Max Temp'])\n",
    "# There appears to be a statistically significant\n",
    "# correlation between Max Temp and Degrees from Equator"
   ]
  },
  {
   "cell_type": "code",
   "execution_count": 258,
   "metadata": {},
   "outputs": [
    {
     "data": {
      "text/plain": [
       "(0.0005544189, 0.9900544786700866)"
      ]
     },
     "execution_count": 258,
     "metadata": {},
     "output_type": "execute_result"
    }
   ],
   "source": [
    "pearsonr(df['Degrees from Prime Meridian'], df['Max Temp'])"
   ]
  },
  {
   "cell_type": "code",
   "execution_count": 256,
   "metadata": {},
   "outputs": [
    {
     "data": {
      "text/plain": [
       "(0.30157712, 3.84543683024949e-12)"
      ]
     },
     "execution_count": 256,
     "metadata": {},
     "output_type": "execute_result"
    }
   ],
   "source": [
    "pearsonr(df['Degrees from Equator'], df['Wind Speed'])\n",
    "# Wind speed seems to be influenced two times as much\n",
    "# by distance from equator as it is by distance from PM"
   ]
  },
  {
   "cell_type": "code",
   "execution_count": 257,
   "metadata": {},
   "outputs": [
    {
     "data": {
      "text/plain": [
       "(0.15252501, 0.0005616804471989271)"
      ]
     },
     "execution_count": 257,
     "metadata": {},
     "output_type": "execute_result"
    }
   ],
   "source": [
    "pearsonr(df['Degrees from Prime Meridian'], df['Wind Speed'])"
   ]
  },
  {
   "cell_type": "code",
   "execution_count": 153,
   "metadata": {},
   "outputs": [],
   "source": [
    "# Cast columns as specified data types\n",
    "\n",
    "df = df.astype({\"City\" : 'str',\n",
    "                \"Cloudiness\" : 'float32',\n",
    "                \"Country\" : 'str',\n",
    "                \"Date\" : 'int',\n",
    "                \"Humidity\" : 'float32',\n",
    "                \"Lat\" : 'float32',\n",
    "                \"Lng\" : 'float32',\n",
    "                \"Max Temp\" : 'float32',\n",
    "                \"Wind Speed\" : 'float32',\n",
    "                \"Degrees from Equator\" : 'float32',\n",
    "                \"Degrees from Prime Meridian\" : 'float32',})"
   ]
  },
  {
   "cell_type": "code",
   "execution_count": 161,
   "metadata": {},
   "outputs": [],
   "source": [
    "# Group by country and city and calculate averages\n",
    "\n",
    "country_city_group = df.groupby(['Country', 'City'])\n",
    "\n",
    "group_calcs = country_city_group.agg({'Cloudiness' : 'mean',\n",
    "                                      'Humidity' : 'mean',\n",
    "                                      'Max Temp' : 'mean',\n",
    "                                      'Wind Speed' : 'mean',\n",
    "                                      'Degrees from Equator' : 'mean',\n",
    "                                      'Degrees from Prime Meridian' : 'mean'})"
   ]
  },
  {
   "cell_type": "code",
   "execution_count": 233,
   "metadata": {},
   "outputs": [
    {
     "data": {
      "text/plain": [
       "98.6"
      ]
     },
     "execution_count": 233,
     "metadata": {},
     "output_type": "execute_result"
    }
   ],
   "source": [
    "# Let's see which city is the cloudiest\n",
    "\n",
    "group_calcs.Cloudiness.max()"
   ]
  },
  {
   "cell_type": "code",
   "execution_count": 234,
   "metadata": {},
   "outputs": [],
   "source": [
    "max_clouds = group_calcs[group_calcs.Cloudiness >= 95]"
   ]
  },
  {
   "cell_type": "code",
   "execution_count": 235,
   "metadata": {},
   "outputs": [
    {
     "data": {
      "text/html": [
       "<div>\n",
       "<style scoped>\n",
       "    .dataframe tbody tr th:only-of-type {\n",
       "        vertical-align: middle;\n",
       "    }\n",
       "\n",
       "    .dataframe tbody tr th {\n",
       "        vertical-align: top;\n",
       "    }\n",
       "\n",
       "    .dataframe thead th {\n",
       "        text-align: right;\n",
       "    }\n",
       "</style>\n",
       "<table border=\"1\" class=\"dataframe\">\n",
       "  <thead>\n",
       "    <tr style=\"text-align: right;\">\n",
       "      <th></th>\n",
       "      <th></th>\n",
       "      <th>Cloudiness</th>\n",
       "      <th>Humidity</th>\n",
       "      <th>Max Temp</th>\n",
       "      <th>Wind Speed</th>\n",
       "      <th>Degrees from Equator</th>\n",
       "      <th>Degrees from Prime Meridian</th>\n",
       "    </tr>\n",
       "    <tr>\n",
       "      <th>Country</th>\n",
       "      <th>City</th>\n",
       "      <th></th>\n",
       "      <th></th>\n",
       "      <th></th>\n",
       "      <th></th>\n",
       "      <th></th>\n",
       "      <th></th>\n",
       "    </tr>\n",
       "  </thead>\n",
       "  <tbody>\n",
       "    <tr>\n",
       "      <th>CO</th>\n",
       "      <th>Puerto Ayacucho</th>\n",
       "      <td>98.599998</td>\n",
       "      <td>37.0</td>\n",
       "      <td>98.599998</td>\n",
       "      <td>3.65</td>\n",
       "      <td>5.66</td>\n",
       "      <td>67.629997</td>\n",
       "    </tr>\n",
       "  </tbody>\n",
       "</table>\n",
       "</div>"
      ],
      "text/plain": [
       "                         Cloudiness  Humidity   Max Temp  Wind Speed  \\\n",
       "Country City                                                           \n",
       "CO      Puerto Ayacucho   98.599998      37.0  98.599998        3.65   \n",
       "\n",
       "                         Degrees from Equator  Degrees from Prime Meridian  \n",
       "Country City                                                                \n",
       "CO      Puerto Ayacucho                  5.66                    67.629997  "
      ]
     },
     "execution_count": 235,
     "metadata": {},
     "output_type": "execute_result"
    }
   ],
   "source": [
    "max_clouds\n",
    "\n",
    "# Colombia is the cloudiest"
   ]
  },
  {
   "cell_type": "code",
   "execution_count": 236,
   "metadata": {},
   "outputs": [
    {
     "data": {
      "text/plain": [
       "100.0"
      ]
     },
     "execution_count": 236,
     "metadata": {},
     "output_type": "execute_result"
    }
   ],
   "source": [
    "# Let's see which cities are the most humid\n",
    "\n",
    "group_calcs.Humidity.max()"
   ]
  },
  {
   "cell_type": "code",
   "execution_count": 237,
   "metadata": {},
   "outputs": [],
   "source": [
    "max_humidity = group_calcs[group_calcs.Humidity > 99].sort_values(by = 'Max Temp',\n",
    "                                                                  ascending = False)"
   ]
  },
  {
   "cell_type": "code",
   "execution_count": 238,
   "metadata": {},
   "outputs": [
    {
     "data": {
      "text/html": [
       "<div>\n",
       "<style scoped>\n",
       "    .dataframe tbody tr th:only-of-type {\n",
       "        vertical-align: middle;\n",
       "    }\n",
       "\n",
       "    .dataframe tbody tr th {\n",
       "        vertical-align: top;\n",
       "    }\n",
       "\n",
       "    .dataframe thead th {\n",
       "        text-align: right;\n",
       "    }\n",
       "</style>\n",
       "<table border=\"1\" class=\"dataframe\">\n",
       "  <thead>\n",
       "    <tr style=\"text-align: right;\">\n",
       "      <th></th>\n",
       "      <th></th>\n",
       "      <th>Cloudiness</th>\n",
       "      <th>Humidity</th>\n",
       "      <th>Max Temp</th>\n",
       "      <th>Wind Speed</th>\n",
       "      <th>Degrees from Equator</th>\n",
       "      <th>Degrees from Prime Meridian</th>\n",
       "    </tr>\n",
       "    <tr>\n",
       "      <th>Country</th>\n",
       "      <th>City</th>\n",
       "      <th></th>\n",
       "      <th></th>\n",
       "      <th></th>\n",
       "      <th></th>\n",
       "      <th></th>\n",
       "      <th></th>\n",
       "    </tr>\n",
       "  </thead>\n",
       "  <tbody>\n",
       "    <tr>\n",
       "      <th>PF</th>\n",
       "      <th>Faanui</th>\n",
       "      <td>84.730003</td>\n",
       "      <td>100.0</td>\n",
       "      <td>84.730003</td>\n",
       "      <td>7.340000</td>\n",
       "      <td>16.48</td>\n",
       "      <td>151.750000</td>\n",
       "    </tr>\n",
       "    <tr>\n",
       "      <th>KI</th>\n",
       "      <th>Butaritari</th>\n",
       "      <td>84.239998</td>\n",
       "      <td>100.0</td>\n",
       "      <td>84.239998</td>\n",
       "      <td>17.290001</td>\n",
       "      <td>3.07</td>\n",
       "      <td>172.789993</td>\n",
       "    </tr>\n",
       "    <tr>\n",
       "      <th>MV</th>\n",
       "      <th>Funadhoo</th>\n",
       "      <td>84.010002</td>\n",
       "      <td>100.0</td>\n",
       "      <td>84.010002</td>\n",
       "      <td>4.880000</td>\n",
       "      <td>6.15</td>\n",
       "      <td>73.269997</td>\n",
       "    </tr>\n",
       "    <tr>\n",
       "      <th>ID</th>\n",
       "      <th>Amahai</th>\n",
       "      <td>84.010002</td>\n",
       "      <td>100.0</td>\n",
       "      <td>84.010002</td>\n",
       "      <td>4.760000</td>\n",
       "      <td>3.31</td>\n",
       "      <td>129.000000</td>\n",
       "    </tr>\n",
       "    <tr>\n",
       "      <th>SB</th>\n",
       "      <th>Kirakira</th>\n",
       "      <td>83.790001</td>\n",
       "      <td>100.0</td>\n",
       "      <td>83.790001</td>\n",
       "      <td>6.890000</td>\n",
       "      <td>10.46</td>\n",
       "      <td>161.919998</td>\n",
       "    </tr>\n",
       "  </tbody>\n",
       "</table>\n",
       "</div>"
      ],
      "text/plain": [
       "                    Cloudiness  Humidity   Max Temp  Wind Speed  \\\n",
       "Country City                                                      \n",
       "PF      Faanui       84.730003     100.0  84.730003    7.340000   \n",
       "KI      Butaritari   84.239998     100.0  84.239998   17.290001   \n",
       "MV      Funadhoo     84.010002     100.0  84.010002    4.880000   \n",
       "ID      Amahai       84.010002     100.0  84.010002    4.760000   \n",
       "SB      Kirakira     83.790001     100.0  83.790001    6.890000   \n",
       "\n",
       "                    Degrees from Equator  Degrees from Prime Meridian  \n",
       "Country City                                                           \n",
       "PF      Faanui                     16.48                   151.750000  \n",
       "KI      Butaritari                  3.07                   172.789993  \n",
       "MV      Funadhoo                    6.15                    73.269997  \n",
       "ID      Amahai                      3.31                   129.000000  \n",
       "SB      Kirakira                   10.46                   161.919998  "
      ]
     },
     "execution_count": 238,
     "metadata": {},
     "output_type": "execute_result"
    }
   ],
   "source": [
    "max_humidity.head(5)\n",
    "\n",
    "# Top 5 are cities in island nations"
   ]
  },
  {
   "cell_type": "code",
   "execution_count": 261,
   "metadata": {},
   "outputs": [],
   "source": [
    "# Which cities are the hottest\n",
    "\n",
    "group_calcs['Max Temp'].max()\n",
    "max_temp = group_calcs[group_calcs['Max Temp'] >= 95]"
   ]
  },
  {
   "cell_type": "code",
   "execution_count": 262,
   "metadata": {},
   "outputs": [
    {
     "data": {
      "text/html": [
       "<div>\n",
       "<style scoped>\n",
       "    .dataframe tbody tr th:only-of-type {\n",
       "        vertical-align: middle;\n",
       "    }\n",
       "\n",
       "    .dataframe tbody tr th {\n",
       "        vertical-align: top;\n",
       "    }\n",
       "\n",
       "    .dataframe thead th {\n",
       "        text-align: right;\n",
       "    }\n",
       "</style>\n",
       "<table border=\"1\" class=\"dataframe\">\n",
       "  <thead>\n",
       "    <tr style=\"text-align: right;\">\n",
       "      <th></th>\n",
       "      <th></th>\n",
       "      <th>Cloudiness</th>\n",
       "      <th>Humidity</th>\n",
       "      <th>Max Temp</th>\n",
       "      <th>Wind Speed</th>\n",
       "      <th>Degrees from Equator</th>\n",
       "      <th>Degrees from Prime Meridian</th>\n",
       "    </tr>\n",
       "    <tr>\n",
       "      <th>Country</th>\n",
       "      <th>City</th>\n",
       "      <th></th>\n",
       "      <th></th>\n",
       "      <th></th>\n",
       "      <th></th>\n",
       "      <th></th>\n",
       "      <th></th>\n",
       "    </tr>\n",
       "  </thead>\n",
       "  <tbody>\n",
       "    <tr>\n",
       "      <th>CO</th>\n",
       "      <th>Puerto Ayacucho</th>\n",
       "      <td>98.599998</td>\n",
       "      <td>37.0</td>\n",
       "      <td>98.599998</td>\n",
       "      <td>3.65</td>\n",
       "      <td>5.66</td>\n",
       "      <td>67.629997</td>\n",
       "    </tr>\n",
       "  </tbody>\n",
       "</table>\n",
       "</div>"
      ],
      "text/plain": [
       "                         Cloudiness  Humidity   Max Temp  Wind Speed  \\\n",
       "Country City                                                           \n",
       "CO      Puerto Ayacucho   98.599998      37.0  98.599998        3.65   \n",
       "\n",
       "                         Degrees from Equator  Degrees from Prime Meridian  \n",
       "Country City                                                                \n",
       "CO      Puerto Ayacucho                  5.66                    67.629997  "
      ]
     },
     "execution_count": 262,
     "metadata": {},
     "output_type": "execute_result"
    }
   ],
   "source": [
    "max_temp\n",
    "\n",
    "# Puerto Ayacucho, with precisely equivalent measures for Max Temp and Cloudiness.\n",
    "# Suspect."
   ]
  },
  {
   "cell_type": "code",
   "execution_count": 239,
   "metadata": {},
   "outputs": [],
   "source": [
    "# Let's see which cities are the windiest\n",
    "\n",
    "group_calcs['Wind Speed'].max()\n",
    "max_wind = group_calcs[group_calcs['Wind Speed'] >= 30]"
   ]
  },
  {
   "cell_type": "code",
   "execution_count": 240,
   "metadata": {},
   "outputs": [
    {
     "data": {
      "text/html": [
       "<div>\n",
       "<style scoped>\n",
       "    .dataframe tbody tr th:only-of-type {\n",
       "        vertical-align: middle;\n",
       "    }\n",
       "\n",
       "    .dataframe tbody tr th {\n",
       "        vertical-align: top;\n",
       "    }\n",
       "\n",
       "    .dataframe thead th {\n",
       "        text-align: right;\n",
       "    }\n",
       "</style>\n",
       "<table border=\"1\" class=\"dataframe\">\n",
       "  <thead>\n",
       "    <tr style=\"text-align: right;\">\n",
       "      <th></th>\n",
       "      <th></th>\n",
       "      <th>Cloudiness</th>\n",
       "      <th>Humidity</th>\n",
       "      <th>Max Temp</th>\n",
       "      <th>Wind Speed</th>\n",
       "      <th>Degrees from Equator</th>\n",
       "      <th>Degrees from Prime Meridian</th>\n",
       "    </tr>\n",
       "    <tr>\n",
       "      <th>Country</th>\n",
       "      <th>City</th>\n",
       "      <th></th>\n",
       "      <th></th>\n",
       "      <th></th>\n",
       "      <th></th>\n",
       "      <th></th>\n",
       "      <th></th>\n",
       "    </tr>\n",
       "  </thead>\n",
       "  <tbody>\n",
       "    <tr>\n",
       "      <th rowspan=\"2\" valign=\"top\">RU</th>\n",
       "      <th>Lavrentiya</th>\n",
       "      <td>33.119999</td>\n",
       "      <td>95.0</td>\n",
       "      <td>33.119999</td>\n",
       "      <td>31.270000</td>\n",
       "      <td>65.580002</td>\n",
       "      <td>170.990005</td>\n",
       "    </tr>\n",
       "    <tr>\n",
       "      <th>Provideniya</th>\n",
       "      <td>33.799999</td>\n",
       "      <td>86.0</td>\n",
       "      <td>33.799999</td>\n",
       "      <td>35.790001</td>\n",
       "      <td>64.419998</td>\n",
       "      <td>173.229996</td>\n",
       "    </tr>\n",
       "  </tbody>\n",
       "</table>\n",
       "</div>"
      ],
      "text/plain": [
       "                     Cloudiness  Humidity   Max Temp  Wind Speed  \\\n",
       "Country City                                                       \n",
       "RU      Lavrentiya    33.119999      95.0  33.119999   31.270000   \n",
       "        Provideniya   33.799999      86.0  33.799999   35.790001   \n",
       "\n",
       "                     Degrees from Equator  Degrees from Prime Meridian  \n",
       "Country City                                                            \n",
       "RU      Lavrentiya              65.580002                   170.990005  \n",
       "        Provideniya             64.419998                   173.229996  "
      ]
     },
     "execution_count": 240,
     "metadata": {},
     "output_type": "execute_result"
    }
   ],
   "source": [
    "max_wind\n",
    "\n",
    "# Russia has the two windiest cities"
   ]
  },
  {
   "cell_type": "code",
   "execution_count": 241,
   "metadata": {},
   "outputs": [],
   "source": [
    "# Which countries/cities were furthest from the equator\n",
    "\n",
    "group_calcs['Degrees from Equator'].max()\n",
    "max_lat = group_calcs[group_calcs['Degrees from Equator'] >= 75]"
   ]
  },
  {
   "cell_type": "code",
   "execution_count": 242,
   "metadata": {},
   "outputs": [
    {
     "data": {
      "text/html": [
       "<div>\n",
       "<style scoped>\n",
       "    .dataframe tbody tr th:only-of-type {\n",
       "        vertical-align: middle;\n",
       "    }\n",
       "\n",
       "    .dataframe tbody tr th {\n",
       "        vertical-align: top;\n",
       "    }\n",
       "\n",
       "    .dataframe thead th {\n",
       "        text-align: right;\n",
       "    }\n",
       "</style>\n",
       "<table border=\"1\" class=\"dataframe\">\n",
       "  <thead>\n",
       "    <tr style=\"text-align: right;\">\n",
       "      <th></th>\n",
       "      <th></th>\n",
       "      <th>Cloudiness</th>\n",
       "      <th>Humidity</th>\n",
       "      <th>Max Temp</th>\n",
       "      <th>Wind Speed</th>\n",
       "      <th>Degrees from Equator</th>\n",
       "      <th>Degrees from Prime Meridian</th>\n",
       "    </tr>\n",
       "    <tr>\n",
       "      <th>Country</th>\n",
       "      <th>City</th>\n",
       "      <th></th>\n",
       "      <th></th>\n",
       "      <th></th>\n",
       "      <th></th>\n",
       "      <th></th>\n",
       "      <th></th>\n",
       "    </tr>\n",
       "  </thead>\n",
       "  <tbody>\n",
       "    <tr>\n",
       "      <th>GL</th>\n",
       "      <th>Qaanaaq</th>\n",
       "      <td>-14.41</td>\n",
       "      <td>83.0</td>\n",
       "      <td>-14.41</td>\n",
       "      <td>13.49</td>\n",
       "      <td>77.480003</td>\n",
       "      <td>69.360001</td>\n",
       "    </tr>\n",
       "    <tr>\n",
       "      <th>NO</th>\n",
       "      <th>Longyearbyen</th>\n",
       "      <td>19.40</td>\n",
       "      <td>73.0</td>\n",
       "      <td>19.40</td>\n",
       "      <td>12.75</td>\n",
       "      <td>78.220001</td>\n",
       "      <td>15.630000</td>\n",
       "    </tr>\n",
       "  </tbody>\n",
       "</table>\n",
       "</div>"
      ],
      "text/plain": [
       "                      Cloudiness  Humidity  Max Temp  Wind Speed  \\\n",
       "Country City                                                       \n",
       "GL      Qaanaaq           -14.41      83.0    -14.41       13.49   \n",
       "NO      Longyearbyen       19.40      73.0     19.40       12.75   \n",
       "\n",
       "                      Degrees from Equator  Degrees from Prime Meridian  \n",
       "Country City                                                             \n",
       "GL      Qaanaaq                  77.480003                    69.360001  \n",
       "NO      Longyearbyen             78.220001                    15.630000  "
      ]
     },
     "execution_count": 242,
     "metadata": {},
     "output_type": "execute_result"
    }
   ],
   "source": [
    "max_lat\n",
    "\n",
    "# Green land and Norway are the furthest from the equator;\n",
    "# they might be outliers that impact temp/distance from equator correlation"
   ]
  },
  {
   "cell_type": "code",
   "execution_count": 222,
   "metadata": {},
   "outputs": [],
   "source": [
    "# Out of curiosity, which countries/cities are\n",
    "# the furthest from the PM\n",
    "\n",
    "group_calcs['Degrees from Prime Meridian'].max()\n",
    "max_long = group_calcs[group_calcs['Degrees from Prime Meridian'] >= 175]"
   ]
  },
  {
   "cell_type": "code",
   "execution_count": 224,
   "metadata": {},
   "outputs": [
    {
     "data": {
      "text/html": [
       "<div>\n",
       "<style scoped>\n",
       "    .dataframe tbody tr th:only-of-type {\n",
       "        vertical-align: middle;\n",
       "    }\n",
       "\n",
       "    .dataframe tbody tr th {\n",
       "        vertical-align: top;\n",
       "    }\n",
       "\n",
       "    .dataframe thead th {\n",
       "        text-align: right;\n",
       "    }\n",
       "</style>\n",
       "<table border=\"1\" class=\"dataframe\">\n",
       "  <thead>\n",
       "    <tr style=\"text-align: right;\">\n",
       "      <th></th>\n",
       "      <th></th>\n",
       "      <th>Cloudiness</th>\n",
       "      <th>Humidity</th>\n",
       "      <th>Max Temp</th>\n",
       "      <th>Wind Speed</th>\n",
       "      <th>Degrees from Equator</th>\n",
       "      <th>Degrees from Prime Meridian</th>\n",
       "    </tr>\n",
       "    <tr>\n",
       "      <th>Country</th>\n",
       "      <th>City</th>\n",
       "      <th></th>\n",
       "      <th></th>\n",
       "      <th></th>\n",
       "      <th></th>\n",
       "      <th></th>\n",
       "      <th></th>\n",
       "    </tr>\n",
       "  </thead>\n",
       "  <tbody>\n",
       "    <tr>\n",
       "      <th rowspan=\"3\" valign=\"top\">NZ</th>\n",
       "      <th>Waipawa</th>\n",
       "      <td>73.000000</td>\n",
       "      <td>46.0</td>\n",
       "      <td>73.000000</td>\n",
       "      <td>11.990000</td>\n",
       "      <td>39.939999</td>\n",
       "      <td>176.589996</td>\n",
       "    </tr>\n",
       "    <tr>\n",
       "      <th>Wairoa</th>\n",
       "      <td>73.989998</td>\n",
       "      <td>58.0</td>\n",
       "      <td>73.989998</td>\n",
       "      <td>11.010000</td>\n",
       "      <td>39.040001</td>\n",
       "      <td>177.429993</td>\n",
       "    </tr>\n",
       "    <tr>\n",
       "      <th>Whitianga</th>\n",
       "      <td>75.989998</td>\n",
       "      <td>69.0</td>\n",
       "      <td>75.989998</td>\n",
       "      <td>5.010000</td>\n",
       "      <td>36.830002</td>\n",
       "      <td>175.699997</td>\n",
       "    </tr>\n",
       "    <tr>\n",
       "      <th rowspan=\"2\" valign=\"top\">RU</th>\n",
       "      <th>Beringovskiy</th>\n",
       "      <td>31.770000</td>\n",
       "      <td>95.0</td>\n",
       "      <td>31.770000</td>\n",
       "      <td>28.920000</td>\n",
       "      <td>63.049999</td>\n",
       "      <td>179.320007</td>\n",
       "    </tr>\n",
       "    <tr>\n",
       "      <th>Leningradskiy</th>\n",
       "      <td>30.690001</td>\n",
       "      <td>89.0</td>\n",
       "      <td>30.690001</td>\n",
       "      <td>22.549999</td>\n",
       "      <td>69.379997</td>\n",
       "      <td>178.419998</td>\n",
       "    </tr>\n",
       "  </tbody>\n",
       "</table>\n",
       "</div>"
      ],
      "text/plain": [
       "                       Cloudiness  Humidity   Max Temp  Wind Speed  \\\n",
       "Country City                                                         \n",
       "NZ      Waipawa         73.000000      46.0  73.000000   11.990000   \n",
       "        Wairoa          73.989998      58.0  73.989998   11.010000   \n",
       "        Whitianga       75.989998      69.0  75.989998    5.010000   \n",
       "RU      Beringovskiy    31.770000      95.0  31.770000   28.920000   \n",
       "        Leningradskiy   30.690001      89.0  30.690001   22.549999   \n",
       "\n",
       "                       Degrees from Equator  Degrees from Prime Meridian  \n",
       "Country City                                                              \n",
       "NZ      Waipawa                   39.939999                   176.589996  \n",
       "        Wairoa                    39.040001                   177.429993  \n",
       "        Whitianga                 36.830002                   175.699997  \n",
       "RU      Beringovskiy              63.049999                   179.320007  \n",
       "        Leningradskiy             69.379997                   178.419998  "
      ]
     },
     "execution_count": 224,
     "metadata": {},
     "output_type": "execute_result"
    }
   ],
   "source": [
    "max_long.head(5)\n",
    "\n",
    "# New Zealand and Russia are the furthest from the Prime Meridian"
   ]
  },
  {
   "cell_type": "markdown",
   "metadata": {},
   "source": [
    "# Export data"
   ]
  },
  {
   "cell_type": "code",
   "execution_count": 243,
   "metadata": {},
   "outputs": [],
   "source": [
    "group_calcs.to_csv('output.csv')"
   ]
  },
  {
   "cell_type": "markdown",
   "metadata": {},
   "source": [
    "# Conclusions"
   ]
  },
  {
   "cell_type": "markdown",
   "metadata": {},
   "source": [
    "* There appears to be a statistically significant Pearson correlation coefficient (r = -0.8482561) between Cloudiness and   \n",
    "  Degrees from Equator; the probability of an uncorrelated system producing datasets that have a Pearson correlation at least as   extreme as the one computed from these datasets is extremely low (P-value: 8.565464084504635e-142).\n",
    "  \n",
    "* There also appears to be a statistically significant Pearson correlation coefficient (r = -0.83757806) between Max Temp and   \n",
    "  Degrees from Equator; the probability of an uncorrelated system producing datasets that have a Pearson correlation at least as   extreme as the one computed from these datasets is also extremely low (P-value: 5.936864423326298e-135).\n",
    "  \n",
    "* Wind speed seems to be influenced two times as much by distance from the equator (r = 0.30157712) as it is by distance from  \n",
    "  the Prime Meridian (r = 0.15252501).\n",
    "  \n",
    "* Puerto Ayacucho, Colombia is the cloudiest city (98.599998%) in the dataset, and the two windiest cities are in Russia \n",
    "  (Lavrentiya and Provideniya).\n",
    "  \n",
    "* The hottest city at 98.599998 degrees is...Puerto Ayacucho, Colombia? Isn't that exactly the percentage of cloudiness there at \n",
    "  the time of measurement? Methinks there is a recording error here."
   ]
  },
  {
   "cell_type": "code",
   "execution_count": null,
   "metadata": {},
   "outputs": [],
   "source": []
  }
 ],
 "metadata": {
  "anaconda-cloud": {},
  "kernel_info": {
   "name": "python3"
  },
  "kernelspec": {
   "display_name": "Python 3",
   "language": "python",
   "name": "python3"
  },
  "language_info": {
   "codemirror_mode": {
    "name": "ipython",
    "version": 3
   },
   "file_extension": ".py",
   "mimetype": "text/x-python",
   "name": "python",
   "nbconvert_exporter": "python",
   "pygments_lexer": "ipython3",
   "version": "3.6.5"
  },
  "nteract": {
   "version": "0.12.3"
  }
 },
 "nbformat": 4,
 "nbformat_minor": 2
}

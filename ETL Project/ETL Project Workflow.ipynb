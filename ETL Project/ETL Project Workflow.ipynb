{
 "cells": [
  {
   "cell_type": "markdown",
   "metadata": {},
   "source": [
    "[Inspiration](http://lenkiefer.com/2018/06/24/plotting-house-price-and-income-trends/)"
   ]
  },
  {
   "cell_type": "code",
   "execution_count": 3,
   "metadata": {},
   "outputs": [],
   "source": [
    "import pybea\n",
    "import pandas as pd\n",
    "from config import api_key"
   ]
  },
  {
   "cell_type": "markdown",
   "metadata": {},
   "source": [
    "Pull state names/abbreviations from Wikipedia; clean data and export it as .csv file for use in MySQL database"
   ]
  },
  {
   "cell_type": "code",
   "execution_count": 4,
   "metadata": {},
   "outputs": [],
   "source": [
    "states = pd.read_html('https://en.wikipedia.org/wiki/List_of_U.S._state_abbreviations')[0]\n",
    "states = states[12:]\n",
    "states.drop(labels = [1, 2, 4, 5, 6, 7, 8, 9, 10, 11, 12, 13, 14], axis = 1, inplace = True)\n",
    "states = states.rename(index=str, columns={0 : \"Name\", 3 : \"Abbreviation\"})\n",
    "states.reset_index(drop = True, inplace = True)\n",
    "states.to_csv('States.csv')"
   ]
  },
  {
   "cell_type": "markdown",
   "metadata": {},
   "source": [
    "Pull U.S. regional income data for 2018 using BEA API"
   ]
  },
  {
   "cell_type": "code",
   "execution_count": 5,
   "metadata": {},
   "outputs": [],
   "source": [
    "regional_income_2018 = pybea.get_data(api_key,\n",
    "                       DataSetName='RegionalIncome',\n",
    "                       TableName='SQ1',\n",
    "                       LineCode=3,\n",
    "                       GeoFips='STATE',\n",
    "                       Year=['2018'],\n",
    "                       ResultFormat='JSON')"
   ]
  },
  {
   "cell_type": "markdown",
   "metadata": {},
   "source": [
    "Strip asterisks from Alaska and Hawaii 'GeoNames'"
   ]
  },
  {
   "cell_type": "code",
   "execution_count": 6,
   "metadata": {},
   "outputs": [],
   "source": [
    "regional_income_2018['GeoName'] = regional_income_2018['GeoName'].str.strip(' *')"
   ]
  },
  {
   "cell_type": "markdown",
   "metadata": {},
   "source": [
    "Drop unwanted columns"
   ]
  },
  {
   "cell_type": "code",
   "execution_count": 7,
   "metadata": {},
   "outputs": [],
   "source": [
    "regional_income_2018.drop(labels=['CL_UNIT',\n",
    "                                  'Code',\n",
    "                                  'GeoFips',\n",
    "                                  'NoteRef',\n",
    "                                  'UNIT_MULT'],\n",
    "                          axis = 1,\n",
    "                          inplace = True)"
   ]
  },
  {
   "cell_type": "markdown",
   "metadata": {},
   "source": [
    "Export cleaned regional income data as .csv file for use in MySQL"
   ]
  },
  {
   "cell_type": "code",
   "execution_count": 8,
   "metadata": {},
   "outputs": [],
   "source": [
    "regional_income_2018.to_csv('Regional Income.csv')"
   ]
  },
  {
   "cell_type": "markdown",
   "metadata": {},
   "source": [
    "Import housing price index data, which was downloaded as an .xls file and saved as a .csv file"
   ]
  },
  {
   "cell_type": "code",
   "execution_count": 9,
   "metadata": {},
   "outputs": [],
   "source": [
    "housing_price_index = pd.read_csv('Housing Price Index (Original).csv')"
   ]
  },
  {
   "cell_type": "markdown",
   "metadata": {},
   "source": [
    "Drop unwanted columns"
   ]
  },
  {
   "cell_type": "code",
   "execution_count": 10,
   "metadata": {},
   "outputs": [],
   "source": [
    "housing_price_index.drop(labels=['index_nsa',\n",
    "                                 'Warning'],\n",
    "                         axis = 1,\n",
    "                         inplace = True)"
   ]
  },
  {
   "cell_type": "markdown",
   "metadata": {},
   "source": [
    "Combine 'yr' and 'qtr' in the desired format (e.g., '2018Q1') for insertion into created 'TimePeriod' column"
   ]
  },
  {
   "cell_type": "code",
   "execution_count": 11,
   "metadata": {},
   "outputs": [],
   "source": [
    "def quarterizer(row):\n",
    "    year = row['yr']\n",
    "    quarter = row['qtr']\n",
    "    str_rep = str(year) + 'Q' + str(quarter)\n",
    "    return str_rep\n",
    "\n",
    "housing_price_index['TimePeriod'] = housing_price_index.apply(quarterizer, axis = 1)"
   ]
  },
  {
   "cell_type": "markdown",
   "metadata": {},
   "source": [
    "Drop unwanted columns"
   ]
  },
  {
   "cell_type": "code",
   "execution_count": 12,
   "metadata": {},
   "outputs": [],
   "source": [
    "housing_price_index.drop(labels=['yr',\n",
    "                                 'qtr'],\n",
    "                         axis = 1,\n",
    "                         inplace = True)"
   ]
  },
  {
   "cell_type": "markdown",
   "metadata": {},
   "source": [
    "Export transformed housing price index data as a .csv file for use in MySQL"
   ]
  },
  {
   "cell_type": "code",
   "execution_count": 13,
   "metadata": {},
   "outputs": [],
   "source": [
    "housing_price_index.to_csv('Housing Price Index (Transformed).csv')"
   ]
  },
  {
   "cell_type": "markdown",
   "metadata": {},
   "source": [
    "Import tables joined in MySQL, clean data, calculate 'affordability index' for insertion into appropriately-named and newly-created column, and export tranformed data as a .csv file for later use"
   ]
  },
  {
   "cell_type": "code",
   "execution_count": 15,
   "metadata": {},
   "outputs": [],
   "source": [
    "merged_data = pd.read_csv('Joined Output (MySQL Export).csv')\n",
    "\n",
    "merged_data = merged_data.rename(index=str, columns={'index_sa' : \"Housing Price Index\",\n",
    "                                                     'DataValue' : \"Regional Income\",\n",
    "                                                     'GeoName' : 'State',\n",
    "                                                     'TimePeriod' : 'Yr. & Qtr.'})\n",
    "\n",
    "merged_data['Affordability Ratio'] = (merged_data['Housing Price Index'] / merged_data['Regional Income']) * 100\n",
    "\n",
    "merged_data.to_csv('Joined Output (Transformed).csv')"
   ]
  },
  {
   "cell_type": "code",
   "execution_count": null,
   "metadata": {},
   "outputs": [],
   "source": []
  }
 ],
 "metadata": {
  "kernelspec": {
   "display_name": "Python 3",
   "language": "python",
   "name": "python3"
  },
  "language_info": {
   "codemirror_mode": {
    "name": "ipython",
    "version": 3
   },
   "file_extension": ".py",
   "mimetype": "text/x-python",
   "name": "python",
   "nbconvert_exporter": "python",
   "pygments_lexer": "ipython3",
   "version": "3.6.5"
  }
 },
 "nbformat": 4,
 "nbformat_minor": 2
}
